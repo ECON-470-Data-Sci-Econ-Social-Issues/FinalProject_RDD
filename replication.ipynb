{
 "cells": [
  {
   "cell_type": "code",
   "execution_count": 1,
   "metadata": {},
   "outputs": [],
   "source": [
    "import pandas as pd"
   ]
  },
  {
   "cell_type": "markdown",
   "metadata": {},
   "source": [
    "## Variable List\n",
    "\n",
    "- Date\n",
    "- Alcohol1\n",
    "- Alcohol2\n",
    "- low_score\n",
    "- male\n",
    "- white\n",
    "- recidivism\n",
    "- acc\n",
    "- aged\n",
    "- year\n",
    "- bac1\n",
    "- bac2"
   ]
  },
  {
   "cell_type": "code",
   "execution_count": 4,
   "metadata": {},
   "outputs": [
    {
     "name": "stdout",
     "output_type": "stream",
     "text": [
      "(214558, 12)\n",
      "        Date  Alcohol1  Alcohol2  low_score  male  white  recidivism  acc  \\\n",
      "0 2007-07-30         0         0        0.0   1.0    1.0         1.0  0.0   \n",
      "1 2007-02-20         0         0        0.0   1.0    1.0         0.0  0.0   \n",
      "2 2003-03-18         0         0        0.0   1.0    0.0         0.0  0.0   \n",
      "3 2006-12-17         0         0        0.0   1.0    1.0         0.0  0.0   \n",
      "4 1999-04-07         0         0        0.0   1.0    1.0         0.0  0.0   \n",
      "\n",
      "   aged    year  bac1  bac2  \n",
      "0  48.0  2007.0   0.0   0.0  \n",
      "1  51.0  2007.0   0.0   0.0  \n",
      "2  68.0  2003.0   0.0   0.0  \n",
      "3  51.0  2006.0   0.0   0.0  \n",
      "4  22.0  1999.0   0.0   0.0  \n"
     ]
    }
   ],
   "source": [
    "df = pd.read_stata('hansen_dwi.dta')\n",
    "\n",
    "print(df.shape)\n",
    "print(df.head())"
   ]
  },
  {
   "cell_type": "code",
   "execution_count": null,
   "metadata": {},
   "outputs": [],
   "source": [
    "\n"
   ]
  }
 ],
 "metadata": {
  "kernelspec": {
   "display_name": "Python 3",
   "language": "python",
   "name": "python3"
  },
  "language_info": {
   "codemirror_mode": {
    "name": "ipython",
    "version": 3
   },
   "file_extension": ".py",
   "mimetype": "text/x-python",
   "name": "python",
   "nbconvert_exporter": "python",
   "pygments_lexer": "ipython3",
   "version": "3.10.4"
  }
 },
 "nbformat": 4,
 "nbformat_minor": 2
}
